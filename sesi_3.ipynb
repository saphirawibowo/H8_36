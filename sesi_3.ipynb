{
 "cells": [
  {
   "cell_type": "markdown",
   "metadata": {},
   "source": [
    "# Hacktiv8 Python for Data Science - Sesi 3\n",
    "\n",
    "Sesi 3 :\n",
    "- Function\n",
    "- Module\n",
    "- Package"
   ]
  },
  {
   "cell_type": "markdown",
   "metadata": {},
   "source": [
    "## Function"
   ]
  },
  {
   "cell_type": "code",
   "execution_count": 1,
   "metadata": {},
   "outputs": [],
   "source": [
    "def myfunction():\n",
    "    \"This function print a string\"\n",
    "    print(\"Hello from a function\")"
   ]
  },
  {
   "cell_type": "code",
   "execution_count": 2,
   "metadata": {},
   "outputs": [
    {
     "name": "stdout",
     "output_type": "stream",
     "text": [
      "Hello from a function\n"
     ]
    }
   ],
   "source": [
    "myfunction()"
   ]
  },
  {
   "cell_type": "code",
   "execution_count": 3,
   "metadata": {},
   "outputs": [
    {
     "name": "stdout",
     "output_type": "stream",
     "text": [
      "oi\n"
     ]
    }
   ],
   "source": [
    "def printme(nama):\n",
    "    \"This function pass input to params nama\"\n",
    "    print(nama)\n",
    "    \n",
    "print(\"oi\")"
   ]
  },
  {
   "cell_type": "code",
   "execution_count": 4,
   "metadata": {},
   "outputs": [
    {
     "name": "stdout",
     "output_type": "stream",
     "text": [
      "Hello from a function\n"
     ]
    }
   ],
   "source": [
    "myfunction()"
   ]
  },
  {
   "cell_type": "code",
   "execution_count": 5,
   "metadata": {
    "scrolled": true
   },
   "outputs": [
    {
     "name": "stdout",
     "output_type": "stream",
     "text": [
      "Masukkan A: 5\n",
      "Masukkan B: 6\n",
      "f(5) =20\n",
      "f(6) =29\n"
     ]
    }
   ],
   "source": [
    "def fungsi (x):\n",
    "  y = x**2 - 2*x + 5\n",
    "  return(y)\n",
    "  \n",
    "A = int(input(\"Masukkan A: \"))\n",
    "B = int(input(\"Masukkan B: \"))\n",
    "\n",
    "for i in range (A,B+1):\n",
    "  print(\"f(\" +str(i)+ \") =\" + str(fungsi(i)))"
   ]
  },
  {
   "cell_type": "code",
   "execution_count": 6,
   "metadata": {},
   "outputs": [],
   "source": [
    "# Keyword argument\n",
    "def info(nama, umur):\n",
    "    print(\"Nama: \", nama)\n",
    "    print(\"Umur: \", umur)"
   ]
  },
  {
   "cell_type": "code",
   "execution_count": 7,
   "metadata": {},
   "outputs": [
    {
     "name": "stdout",
     "output_type": "stream",
     "text": [
      "Nama:  Saphira\n",
      "Umur:  19\n"
     ]
    }
   ],
   "source": [
    "info(\"Saphira\", 19)"
   ]
  },
  {
   "cell_type": "code",
   "execution_count": 8,
   "metadata": {},
   "outputs": [
    {
     "name": "stdout",
     "output_type": "stream",
     "text": [
      "Nama:  Saphira\n",
      "Umur:  19\n"
     ]
    }
   ],
   "source": [
    "info(umur=19, nama=\"Saphira\")"
   ]
  },
  {
   "cell_type": "code",
   "execution_count": 9,
   "metadata": {},
   "outputs": [],
   "source": [
    "# Default Argument\n",
    "def info(nama, umur=19):\n",
    "    print(\"Nama: \", nama)\n",
    "    print(\"Umur: \", umur)"
   ]
  },
  {
   "cell_type": "code",
   "execution_count": 10,
   "metadata": {},
   "outputs": [
    {
     "name": "stdout",
     "output_type": "stream",
     "text": [
      "Nama:  Sukino\n",
      "Umur:  22\n"
     ]
    }
   ],
   "source": [
    "info(umur=22, nama=\"Sukino\")"
   ]
  },
  {
   "cell_type": "code",
   "execution_count": 11,
   "metadata": {},
   "outputs": [
    {
     "name": "stdout",
     "output_type": "stream",
     "text": [
      "Nama:  Saphira\n",
      "Umur:  19\n"
     ]
    }
   ],
   "source": [
    "info(nama=\"Saphira\")"
   ]
  },
  {
   "cell_type": "code",
   "execution_count": 12,
   "metadata": {},
   "outputs": [
    {
     "name": "stdout",
     "output_type": "stream",
     "text": [
      "25\n"
     ]
    }
   ],
   "source": [
    "def luas_persegi(x):\n",
    "    return x*x\n",
    "\n",
    "print(luas_persegi(5))"
   ]
  },
  {
   "cell_type": "markdown",
   "metadata": {},
   "source": [
    "## Variable-Length Arguments"
   ]
  },
  {
   "cell_type": "code",
   "execution_count": 13,
   "metadata": {},
   "outputs": [],
   "source": [
    "def info(angkapertama, *angkaselanjutnya):\n",
    "    print(\"Outputnya: \")\n",
    "    print(angkapertama)\n",
    "    \n",
    "    for angka in angkaselanjutnya:\n",
    "        print(angka)"
   ]
  },
  {
   "cell_type": "code",
   "execution_count": 14,
   "metadata": {},
   "outputs": [
    {
     "name": "stdout",
     "output_type": "stream",
     "text": [
      "Outputnya: \n",
      "5\n"
     ]
    }
   ],
   "source": [
    "info(5)"
   ]
  },
  {
   "cell_type": "code",
   "execution_count": 15,
   "metadata": {},
   "outputs": [
    {
     "name": "stdout",
     "output_type": "stream",
     "text": [
      "Outputnya: \n",
      "5\n",
      "15\n",
      "25\n",
      "35\n"
     ]
    }
   ],
   "source": [
    "info(5, 15, 25, 35)"
   ]
  },
  {
   "cell_type": "markdown",
   "metadata": {},
   "source": [
    "## Anonymous Functions"
   ]
  },
  {
   "cell_type": "code",
   "execution_count": 16,
   "metadata": {},
   "outputs": [],
   "source": [
    "multiplication = lambda angka1, angka2: angka1 * angka2"
   ]
  },
  {
   "cell_type": "code",
   "execution_count": 17,
   "metadata": {},
   "outputs": [
    {
     "data": {
      "text/plain": [
       "300"
      ]
     },
     "execution_count": 17,
     "metadata": {},
     "output_type": "execute_result"
    }
   ],
   "source": [
    "multiplication(10,30)"
   ]
  },
  {
   "cell_type": "code",
   "execution_count": 18,
   "metadata": {},
   "outputs": [
    {
     "name": "stdout",
     "output_type": "stream",
     "text": [
      "Hasil perkalian 693\n"
     ]
    }
   ],
   "source": [
    "print(\"Hasil perkalian\", multiplication(77, 9))"
   ]
  },
  {
   "cell_type": "markdown",
   "metadata": {},
   "source": [
    "## Return Statement"
   ]
  },
  {
   "cell_type": "code",
   "execution_count": 19,
   "metadata": {},
   "outputs": [],
   "source": [
    "def sum(x,y):\n",
    "    total = x + y\n",
    "    print(\"Hasil penjumlahan: \", total)\n",
    "    return total"
   ]
  },
  {
   "cell_type": "code",
   "execution_count": 20,
   "metadata": {},
   "outputs": [
    {
     "name": "stdout",
     "output_type": "stream",
     "text": [
      "Hasil penjumlahan:  10\n"
     ]
    },
    {
     "data": {
      "text/plain": [
       "10"
      ]
     },
     "execution_count": 20,
     "metadata": {},
     "output_type": "execute_result"
    }
   ],
   "source": [
    "sum(4, 6)"
   ]
  },
  {
   "cell_type": "markdown",
   "metadata": {},
   "source": [
    "## Scope of Variables"
   ]
  },
  {
   "cell_type": "code",
   "execution_count": 21,
   "metadata": {},
   "outputs": [],
   "source": [
    "apel = 10  # Global variable\n",
    "\n",
    "def jumlah_apel():\n",
    "    apel_kuning = 30  # Local variable\n",
    "    total_apel = apel+apel_kuning\n",
    "    print(\"Jumlah apel: \", total_apel)\n",
    "    \n",
    "def jumlah_apel_hijau():\n",
    "    apel_hijau = 16. # Local variable\n",
    "    total_apel_hijau = apel+apel_hijau\n",
    "    print(\"Jumlah apel: \", total_apel_hijau)"
   ]
  },
  {
   "cell_type": "code",
   "execution_count": 22,
   "metadata": {},
   "outputs": [],
   "source": [
    "import mod"
   ]
  },
  {
   "cell_type": "code",
   "execution_count": 23,
   "metadata": {},
   "outputs": [
    {
     "data": {
      "text/plain": [
       "'Hacktive8 Python for Data Science'"
      ]
     },
     "execution_count": 23,
     "metadata": {},
     "output_type": "execute_result"
    }
   ],
   "source": [
    "mod.s"
   ]
  },
  {
   "cell_type": "code",
   "execution_count": 24,
   "metadata": {},
   "outputs": [
    {
     "data": {
      "text/plain": [
       "[100, 200, 300]"
      ]
     },
     "execution_count": 24,
     "metadata": {},
     "output_type": "execute_result"
    }
   ],
   "source": [
    "mod.a"
   ]
  },
  {
   "cell_type": "code",
   "execution_count": 25,
   "metadata": {},
   "outputs": [
    {
     "data": {
      "text/plain": [
       "'Hacktive8 Python for Data Science'"
      ]
     },
     "execution_count": 25,
     "metadata": {},
     "output_type": "execute_result"
    }
   ],
   "source": [
    "mod.s"
   ]
  },
  {
   "cell_type": "code",
   "execution_count": 26,
   "metadata": {},
   "outputs": [],
   "source": [
    "from mod import s, printme"
   ]
  },
  {
   "cell_type": "code",
   "execution_count": 27,
   "metadata": {},
   "outputs": [
    {
     "data": {
      "text/plain": [
       "'Hacktive8 Python for Data Science'"
      ]
     },
     "execution_count": 27,
     "metadata": {},
     "output_type": "execute_result"
    }
   ],
   "source": [
    "s"
   ]
  },
  {
   "cell_type": "code",
   "execution_count": 28,
   "metadata": {},
   "outputs": [],
   "source": [
    "from mod import *"
   ]
  },
  {
   "cell_type": "code",
   "execution_count": 29,
   "metadata": {},
   "outputs": [],
   "source": [
    "from mod import s as stringNama"
   ]
  },
  {
   "cell_type": "code",
   "execution_count": 30,
   "metadata": {},
   "outputs": [
    {
     "data": {
      "text/plain": [
       "'Hacktive8 Python for Data Science'"
      ]
     },
     "execution_count": 30,
     "metadata": {},
     "output_type": "execute_result"
    }
   ],
   "source": [
    "stringNama"
   ]
  },
  {
   "cell_type": "code",
   "execution_count": 31,
   "metadata": {},
   "outputs": [
    {
     "ename": "NameError",
     "evalue": "name 'moduleCustom' is not defined",
     "output_type": "error",
     "traceback": [
      "\u001b[0;31m---------------------------------------------------------------------------\u001b[0m",
      "\u001b[0;31mNameError\u001b[0m                                 Traceback (most recent call last)",
      "\u001b[0;32m<ipython-input-31-73cb504e6438>\u001b[0m in \u001b[0;36m<module>\u001b[0;34m\u001b[0m\n\u001b[0;32m----> 1\u001b[0;31m \u001b[0mmoduleCustom\u001b[0m\u001b[0;34m.\u001b[0m\u001b[0ms\u001b[0m\u001b[0;34m\u001b[0m\u001b[0;34m\u001b[0m\u001b[0m\n\u001b[0m",
      "\u001b[0;31mNameError\u001b[0m: name 'moduleCustom' is not defined"
     ]
    }
   ],
   "source": [
    "moduleCustom.s"
   ]
  },
  {
   "cell_type": "markdown",
   "metadata": {},
   "source": [
    "## Packages"
   ]
  },
  {
   "cell_type": "code",
   "execution_count": 32,
   "metadata": {},
   "outputs": [],
   "source": [
    "import pkg.mod1, pkg.mod2"
   ]
  },
  {
   "cell_type": "code",
   "execution_count": 1,
   "metadata": {},
   "outputs": [
    {
     "ename": "NameError",
     "evalue": "name 'pkg' is not defined",
     "output_type": "error",
     "traceback": [
      "\u001b[0;31m---------------------------------------------------------------------------\u001b[0m",
      "\u001b[0;31mNameError\u001b[0m                                 Traceback (most recent call last)",
      "\u001b[0;32m<ipython-input-1-7a405ecc3f6f>\u001b[0m in \u001b[0;36m<module>\u001b[0;34m\u001b[0m\n\u001b[0;32m----> 1\u001b[0;31m \u001b[0mpkg\u001b[0m\u001b[0;34m.\u001b[0m\u001b[0mmod\u001b[0m\u001b[0;34m.\u001b[0m\u001b[0mmodule1\u001b[0m\u001b[0;34m(\u001b[0m\u001b[0;34m)\u001b[0m\u001b[0;34m\u001b[0m\u001b[0;34m\u001b[0m\u001b[0m\n\u001b[0m",
      "\u001b[0;31mNameError\u001b[0m: name 'pkg' is not defined"
     ]
    }
   ],
   "source": [
    "pkg.mod.module1()"
   ]
  },
  {
   "cell_type": "markdown",
   "metadata": {},
   "source": [
    "## PIP"
   ]
  },
  {
   "cell_type": "code",
   "execution_count": 2,
   "metadata": {},
   "outputs": [
    {
     "name": "stdout",
     "output_type": "stream",
     "text": [
      "pip 19.2.3 from /Users/saphiramustikarahmana/opt/anaconda3/lib/python3.7/site-packages/pip (python 3.7)\r\n"
     ]
    }
   ],
   "source": [
    "!pip --version"
   ]
  },
  {
   "cell_type": "code",
   "execution_count": 3,
   "metadata": {},
   "outputs": [
    {
     "name": "stdout",
     "output_type": "stream",
     "text": [
      "\u001b[34m__pycache__\u001b[m\u001b[m  mod.pyc      sesi_1.ipynb sesi_3.ipynb\r\n",
      "mod.py       \u001b[34mpkg\u001b[m\u001b[m          sesi_2.ipynb\r\n"
     ]
    }
   ],
   "source": [
    "!ls"
   ]
  },
  {
   "cell_type": "code",
   "execution_count": 4,
   "metadata": {},
   "outputs": [
    {
     "name": "stdout",
     "output_type": "stream",
     "text": [
      "Collecting folium\n",
      "\u001b[?25l  Downloading https://files.pythonhosted.org/packages/a4/f0/44e69d50519880287cc41e7c8a6acc58daa9a9acf5f6afc52bcc70f69a6d/folium-0.11.0-py2.py3-none-any.whl (93kB)\n",
      "\u001b[K     |████████████████████████████████| 102kB 44kB/s ta 0:00:011\n",
      "\u001b[?25hCollecting branca>=0.3.0 (from folium)\n",
      "  Downloading https://files.pythonhosted.org/packages/13/fb/9eacc24ba3216510c6b59a4ea1cd53d87f25ba76237d7f4393abeaf4c94e/branca-0.4.1-py3-none-any.whl\n",
      "Requirement already satisfied: numpy in /Users/saphiramustikarahmana/opt/anaconda3/lib/python3.7/site-packages (from folium) (1.17.2)\n",
      "Requirement already satisfied: jinja2>=2.9 in /Users/saphiramustikarahmana/opt/anaconda3/lib/python3.7/site-packages (from folium) (2.10.3)\n",
      "Requirement already satisfied: requests in /Users/saphiramustikarahmana/opt/anaconda3/lib/python3.7/site-packages (from folium) (2.22.0)\n",
      "Requirement already satisfied: MarkupSafe>=0.23 in /Users/saphiramustikarahmana/opt/anaconda3/lib/python3.7/site-packages (from jinja2>=2.9->folium) (1.1.1)\n",
      "Requirement already satisfied: chardet<3.1.0,>=3.0.2 in /Users/saphiramustikarahmana/opt/anaconda3/lib/python3.7/site-packages (from requests->folium) (3.0.4)\n",
      "Requirement already satisfied: idna<2.9,>=2.5 in /Users/saphiramustikarahmana/opt/anaconda3/lib/python3.7/site-packages (from requests->folium) (2.8)\n",
      "Requirement already satisfied: certifi>=2017.4.17 in /Users/saphiramustikarahmana/opt/anaconda3/lib/python3.7/site-packages (from requests->folium) (2019.9.11)\n",
      "Requirement already satisfied: urllib3!=1.25.0,!=1.25.1,<1.26,>=1.21.1 in /Users/saphiramustikarahmana/opt/anaconda3/lib/python3.7/site-packages (from requests->folium) (1.24.2)\n",
      "Installing collected packages: branca, folium\n",
      "Successfully installed branca-0.4.1 folium-0.11.0\n"
     ]
    }
   ],
   "source": [
    "!pip install folium"
   ]
  },
  {
   "cell_type": "code",
   "execution_count": 5,
   "metadata": {},
   "outputs": [],
   "source": [
    "import requests"
   ]
  },
  {
   "cell_type": "code",
   "execution_count": 6,
   "metadata": {},
   "outputs": [
    {
     "name": "stdout",
     "output_type": "stream",
     "text": [
      "Package                            Version  \r\n",
      "---------------------------------- ---------\r\n",
      "alabaster                          0.7.12   \r\n",
      "anaconda-client                    1.7.2    \r\n",
      "anaconda-navigator                 1.9.7    \r\n",
      "anaconda-project                   0.8.3    \r\n",
      "appnope                            0.1.0    \r\n",
      "appscript                          1.0.1    \r\n",
      "asn1crypto                         1.0.1    \r\n",
      "astroid                            2.3.1    \r\n",
      "astropy                            3.2.2    \r\n",
      "atomicwrites                       1.3.0    \r\n",
      "attrs                              19.2.0   \r\n",
      "Babel                              2.7.0    \r\n",
      "backcall                           0.1.0    \r\n",
      "backports.functools-lru-cache      1.5      \r\n",
      "backports.os                       0.1.1    \r\n",
      "backports.shutil-get-terminal-size 1.0.0    \r\n",
      "backports.tempfile                 1.0      \r\n",
      "backports.weakref                  1.0.post1\r\n",
      "beautifulsoup4                     4.8.0    \r\n",
      "bitarray                           1.0.1    \r\n",
      "bkcharts                           0.2      \r\n",
      "bleach                             3.1.0    \r\n",
      "bokeh                              1.3.4    \r\n",
      "boto                               2.49.0   \r\n",
      "Bottleneck                         1.2.1    \r\n",
      "branca                             0.4.1    \r\n",
      "certifi                            2019.9.11\r\n",
      "cffi                               1.12.3   \r\n",
      "chardet                            3.0.4    \r\n",
      "Click                              7.0      \r\n",
      "cloudpickle                        1.2.2    \r\n",
      "clyent                             1.2.2    \r\n",
      "colorama                           0.4.1    \r\n",
      "conda                              4.7.12   \r\n",
      "conda-build                        3.18.9   \r\n",
      "conda-package-handling             1.6.0    \r\n",
      "conda-verify                       3.4.2    \r\n",
      "contextlib2                        0.6.0    \r\n",
      "cryptography                       2.7      \r\n",
      "cycler                             0.10.0   \r\n",
      "Cython                             0.29.13  \r\n",
      "cytoolz                            0.10.0   \r\n",
      "dask                               2.5.2    \r\n",
      "decorator                          4.4.0    \r\n",
      "defusedxml                         0.6.0    \r\n",
      "distributed                        2.5.2    \r\n",
      "docutils                           0.15.2   \r\n",
      "entrypoints                        0.3      \r\n",
      "et-xmlfile                         1.0.1    \r\n",
      "fastcache                          1.1.0    \r\n",
      "filelock                           3.0.12   \r\n",
      "Flask                              1.1.1    \r\n",
      "folium                             0.11.0   \r\n",
      "fsspec                             0.5.2    \r\n",
      "future                             0.17.1   \r\n",
      "gevent                             1.4.0    \r\n",
      "glob2                              0.7      \r\n",
      "gmpy2                              2.0.8    \r\n",
      "greenlet                           0.4.15   \r\n",
      "h5py                               2.9.0    \r\n",
      "HeapDict                           1.0.1    \r\n",
      "html5lib                           1.0.1    \r\n",
      "idna                               2.8      \r\n",
      "imageio                            2.6.0    \r\n",
      "imagesize                          1.1.0    \r\n",
      "importlib-metadata                 0.23     \r\n",
      "ipykernel                          5.1.2    \r\n",
      "ipython                            7.8.0    \r\n",
      "ipython-genutils                   0.2.0    \r\n",
      "ipywidgets                         7.5.1    \r\n",
      "isort                              4.3.21   \r\n",
      "itsdangerous                       1.1.0    \r\n",
      "jdcal                              1.4.1    \r\n",
      "jedi                               0.15.1   \r\n",
      "Jinja2                             2.10.3   \r\n",
      "joblib                             0.13.2   \r\n",
      "json5                              0.8.5    \r\n",
      "jsonschema                         3.0.2    \r\n",
      "jupyter                            1.0.0    \r\n",
      "jupyter-client                     5.3.3    \r\n",
      "jupyter-console                    6.0.0    \r\n",
      "jupyter-core                       4.5.0    \r\n",
      "jupyterlab                         1.1.4    \r\n",
      "jupyterlab-server                  1.0.6    \r\n",
      "keyring                            18.0.0   \r\n",
      "kiwisolver                         1.1.0    \r\n",
      "lazy-object-proxy                  1.4.2    \r\n",
      "libarchive-c                       2.8      \r\n",
      "lief                               0.9.0    \r\n",
      "llvmlite                           0.29.0   \r\n",
      "locket                             0.2.0    \r\n",
      "lxml                               4.4.1    \r\n",
      "MarkupSafe                         1.1.1    \r\n",
      "matplotlib                         3.1.1    \r\n",
      "mccabe                             0.6.1    \r\n",
      "mistune                            0.8.4    \r\n",
      "mkl-fft                            1.0.14   \r\n",
      "mkl-random                         1.1.0    \r\n",
      "mkl-service                        2.3.0    \r\n",
      "mock                               3.0.5    \r\n",
      "more-itertools                     7.2.0    \r\n",
      "mpmath                             1.1.0    \r\n",
      "msgpack                            0.6.1    \r\n",
      "multipledispatch                   0.6.0    \r\n",
      "navigator-updater                  0.2.1    \r\n",
      "nbconvert                          5.6.0    \r\n",
      "nbformat                           4.4.0    \r\n",
      "networkx                           2.3      \r\n",
      "nltk                               3.4.5    \r\n",
      "nose                               1.3.7    \r\n",
      "notebook                           6.0.1    \r\n",
      "numba                              0.45.1   \r\n",
      "numexpr                            2.7.0    \r\n",
      "numpy                              1.17.2   \r\n",
      "numpydoc                           0.9.1    \r\n",
      "olefile                            0.46     \r\n",
      "openpyxl                           3.0.0    \r\n",
      "packaging                          19.2     \r\n",
      "pandas                             0.25.1   \r\n",
      "pandocfilters                      1.4.2    \r\n",
      "parso                              0.5.1    \r\n",
      "partd                              1.0.0    \r\n",
      "path.py                            12.0.1   \r\n",
      "pathlib2                           2.3.5    \r\n",
      "patsy                              0.5.1    \r\n",
      "pep8                               1.7.1    \r\n",
      "pexpect                            4.7.0    \r\n",
      "pickleshare                        0.7.5    \r\n",
      "Pillow                             6.2.0    \r\n",
      "pip                                19.2.3   \r\n",
      "pkginfo                            1.5.0.1  \r\n",
      "pluggy                             0.13.0   \r\n",
      "ply                                3.11     \r\n",
      "prometheus-client                  0.7.1    \r\n",
      "prompt-toolkit                     2.0.10   \r\n",
      "psutil                             5.6.3    \r\n",
      "ptyprocess                         0.6.0    \r\n",
      "py                                 1.8.0    \r\n",
      "pycodestyle                        2.5.0    \r\n",
      "pycosat                            0.6.3    \r\n",
      "pycparser                          2.19     \r\n",
      "pycrypto                           2.6.1    \r\n",
      "pycurl                             7.43.0.3 \r\n",
      "pyflakes                           2.1.1    \r\n",
      "Pygments                           2.4.2    \r\n",
      "pylint                             2.4.2    \r\n",
      "pyodbc                             4.0.27   \r\n",
      "pyOpenSSL                          19.0.0   \r\n",
      "pyparsing                          2.4.2    \r\n",
      "pyrsistent                         0.15.4   \r\n",
      "PySocks                            1.7.1    \r\n",
      "pytest                             5.2.1    \r\n",
      "pytest-arraydiff                   0.3      \r\n",
      "pytest-astropy                     0.5.0    \r\n",
      "pytest-doctestplus                 0.4.0    \r\n",
      "pytest-openfiles                   0.4.0    \r\n",
      "pytest-remotedata                  0.3.2    \r\n",
      "python-dateutil                    2.8.0    \r\n",
      "pytz                               2019.3   \r\n",
      "PyWavelets                         1.0.3    \r\n",
      "PyYAML                             5.1.2    \r\n",
      "pyzmq                              18.1.0   \r\n",
      "QtAwesome                          0.6.0    \r\n",
      "qtconsole                          4.5.5    \r\n",
      "QtPy                               1.9.0    \r\n",
      "requests                           2.22.0   \r\n",
      "rope                               0.14.0   \r\n",
      "ruamel-yaml                        0.15.46  \r\n",
      "scikit-image                       0.15.0   \r\n",
      "scikit-learn                       0.21.3   \r\n",
      "scipy                              1.3.1    \r\n",
      "seaborn                            0.9.0    \r\n",
      "Send2Trash                         1.5.0    \r\n",
      "setuptools                         41.4.0   \r\n",
      "simplegeneric                      0.8.1    \r\n",
      "singledispatch                     3.4.0.3  \r\n",
      "six                                1.12.0   \r\n",
      "snowballstemmer                    2.0.0    \r\n",
      "sortedcollections                  1.1.2    \r\n",
      "sortedcontainers                   2.1.0    \r\n",
      "soupsieve                          1.9.3    \r\n",
      "Sphinx                             2.2.0    \r\n",
      "sphinxcontrib-applehelp            1.0.1    \r\n",
      "sphinxcontrib-devhelp              1.0.1    \r\n",
      "sphinxcontrib-htmlhelp             1.0.2    \r\n",
      "sphinxcontrib-jsmath               1.0.1    \r\n",
      "sphinxcontrib-qthelp               1.0.2    \r\n",
      "sphinxcontrib-serializinghtml      1.1.3    \r\n",
      "sphinxcontrib-websupport           1.1.2    \r\n",
      "spyder                             3.3.6    \r\n",
      "spyder-kernels                     0.5.2    \r\n",
      "SQLAlchemy                         1.3.9    \r\n",
      "statsmodels                        0.10.1   \r\n",
      "sympy                              1.4      \r\n",
      "tables                             3.5.2    \r\n",
      "tblib                              1.4.0    \r\n",
      "terminado                          0.8.2    \r\n",
      "testpath                           0.4.2    \r\n",
      "toolz                              0.10.0   \r\n",
      "tornado                            6.0.3    \r\n",
      "tqdm                               4.36.1   \r\n",
      "traitlets                          4.3.3    \r\n",
      "unicodecsv                         0.14.1   \r\n",
      "urllib3                            1.24.2   \r\n",
      "wcwidth                            0.1.7    \r\n",
      "webencodings                       0.5.1    \r\n",
      "Werkzeug                           0.16.0   \r\n",
      "wheel                              0.33.6   \r\n",
      "widgetsnbextension                 3.5.1    \r\n",
      "wrapt                              1.11.2   \r\n",
      "wurlitzer                          1.0.3    \r\n",
      "xlrd                               1.2.0    \r\n",
      "XlsxWriter                         1.2.1    \r\n",
      "xlwings                            0.15.10  \r\n",
      "xlwt                               1.3.0    \r\n",
      "zict                               1.0.0    \r\n",
      "zipp                               0.6.0    \r\n"
     ]
    }
   ],
   "source": [
    "!pip list"
   ]
  },
  {
   "cell_type": "code",
   "execution_count": 7,
   "metadata": {},
   "outputs": [
    {
     "name": "stdout",
     "output_type": "stream",
     "text": [
      "Name: folium\r\n",
      "Version: 0.11.0\r\n",
      "Summary: Make beautiful maps with Leaflet.js & Python\r\n",
      "Home-page: https://github.com/python-visualization/folium\r\n",
      "Author: Rob Story\r\n",
      "Author-email: wrobstory@gmail.com\r\n",
      "License: MIT\r\n",
      "Location: /Users/saphiramustikarahmana/opt/anaconda3/lib/python3.7/site-packages\r\n",
      "Requires: requests, jinja2, branca, numpy\r\n",
      "Required-by: \r\n"
     ]
    }
   ],
   "source": [
    "!pip show folium"
   ]
  },
  {
   "cell_type": "code",
   "execution_count": 8,
   "metadata": {},
   "outputs": [],
   "source": [
    "!pip freeze > requirements.txt"
   ]
  },
  {
   "cell_type": "code",
   "execution_count": 10,
   "metadata": {},
   "outputs": [
    {
     "name": "stdout",
     "output_type": "stream",
     "text": [
      "\r\n",
      "Usage:   \r\n",
      "  pip search [options] <query>\r\n",
      "\r\n",
      "Description:\r\n",
      "  Search for PyPI packages whose name or summary contains <query>.\r\n",
      "\r\n",
      "Search Options:\r\n",
      "  -i, --index <url>           Base URL of Python Package Index (default\r\n",
      "                              https://pypi.org/pypi)\r\n",
      "\r\n",
      "General Options:\r\n",
      "  -h, --help                  Show help.\r\n",
      "  --isolated                  Run pip in an isolated mode, ignoring\r\n",
      "                              environment variables and user configuration.\r\n",
      "  -v, --verbose               Give more output. Option is additive, and can be\r\n",
      "                              used up to 3 times.\r\n",
      "  -V, --version               Show version and exit.\r\n",
      "  -q, --quiet                 Give less output. Option is additive, and can be\r\n",
      "                              used up to 3 times (corresponding to WARNING,\r\n",
      "                              ERROR, and CRITICAL logging levels).\r\n",
      "  --log <path>                Path to a verbose appending log.\r\n",
      "  --proxy <proxy>             Specify a proxy in the form\r\n",
      "                              [user:passwd@]proxy.server:port.\r\n",
      "  --retries <retries>         Maximum number of retries each connection should\r\n",
      "                              attempt (default 5 times).\r\n",
      "  --timeout <sec>             Set the socket timeout (default 15 seconds).\r\n",
      "  --exists-action <action>    Default action when a path already exists:\r\n",
      "                              (s)witch, (i)gnore, (w)ipe, (b)ackup, (a)bort.\r\n",
      "  --trusted-host <hostname>   Mark this host as trusted, even though it does\r\n",
      "                              not have valid or any HTTPS.\r\n",
      "  --cert <path>               Path to alternate CA bundle.\r\n",
      "  --client-cert <path>        Path to SSL client certificate, a single file\r\n",
      "                              containing the private key and the certificate\r\n",
      "                              in PEM format.\r\n",
      "  --cache-dir <dir>           Store the cache data in <dir>.\r\n",
      "  --no-cache-dir              Disable the cache.\r\n",
      "  --disable-pip-version-check\r\n",
      "                              Don't periodically check PyPI to determine\r\n",
      "                              whether a new version of pip is available for\r\n",
      "                              download. Implied with --no-index.\r\n",
      "  --no-color                  Suppress colored output\r\n"
     ]
    }
   ],
   "source": [
    "!pip help search"
   ]
  },
  {
   "cell_type": "code",
   "execution_count": 11,
   "metadata": {},
   "outputs": [
    {
     "name": "stdout",
     "output_type": "stream",
     "text": [
      "openerp-web (7.0.406)                            - Web\n",
      "ebs-web (0.0.1)                                  - A web framwork to create\n",
      "                                                   web application\n",
      "dragonfly-web (1.0)                              - A web framework.\n",
      "web-fragments (0.3.2)                            - Web fragments\n",
      "web-crawler (0.0.4)                              - Web crawler\n",
      "devpi-web (4.0.4)                                - devpi-web: a web view for\n",
      "                                                   devpi-server\n",
      "EarthReader-Web (0.3.0)                          - Earth Reader for Web\n",
      "pdfebc-web (0.1.2)                               - Web interface for pdfebc.\n",
      "victims-web (2.2.1)                              - Victims Web Service\n",
      "kegmeter-web (0.99.5)                            - Kegmeter web server\n",
      "autotweet-web (0.1.0)                            - web instance for autotweet\n",
      "testwizard.commands-web (3.1.19)                 - Testwizard Web commands\n",
      "grapher-web (1.1.3)                              - Grapher Web UI\n",
      "voltron-web (0.1.1)                              - Voltron web interface\n",
      "circus-web (1.0.0)                               - Circus Web Dashboard\n",
      "web-extractor (0.1.3)                            - WEB Content Extractor\n",
      "wc-web (1.0.0)                                   - WidgetCo web: This is a\n",
      "                                                   fake web module used to\n",
      "                                                   teach namespace packages .\n",
      "larpix-web (0.1.0rc2)                            - LArPix DAQ Web Interface\n",
      "uvpool-web (0.2.0)                               - A sanic based web framework\n",
      "six-web (1.0.1)                                  - Micro python web framework\n",
      "cosmicpi-web (0.2.1)                             - Web frontend for Cosmic Pi\n",
      "mailman-web (0.0.1)                              - Mailman 3 Web interface.\n",
      "web-wrapper (0.4.2)                              - Web wrapper for\n",
      "                                                   Selenium/requests\n",
      "web-title (0.1)                                  - Find web site title\n",
      "enaml-web (0.9.1)                                - Web component toolkit for\n",
      "                                                   Enaml\n",
      "volcano-web (1.5.5)                              - Web server satellite for\n",
      "                                                   Volcano\n",
      "reahl-web (4.0.5)                                - The core Reahl web\n",
      "                                                   framework\n",
      "PyForms-Web (4.2.0)                              - Pyforms Web is Python 3\n",
      "                                                   framework to create single-\n",
      "                                                   page web applications.\n",
      "Web-Templates (0.0.0a0.post3)                    - Standardized templates for\n",
      "                                                   Python's web frameworks\n",
      "web-playground (0.0.1)                           - Demo web application for\n",
      "                                                   testing purposes\n",
      "polar-web (0.0.2)                                - Python wrapper for Polar\n",
      "                                                   Web API.\n",
      "web-mage (0.2.0)                                 - Small package that\n",
      "                                                   optimizes images for the\n",
      "                                                   web.\n",
      "sqlite-web (0.3.6)                               - Web-based SQLite database\n",
      "                                                   browser.\n",
      "cppcloud-web (1.0.6)                             - CppCloud python3 Web and\n",
      "                                                   RestApi System\n",
      "mordred-web (0.3.4)                              - molecular descriptor\n",
      "                                                   calculator web UI\n",
      "dnspod-web (3.0.0)                               - DNSPod API Python Web\n",
      "                                                   Example\n",
      "rsrc-web (0.0.3)                                 - `rsrc` plugin for working\n",
      "                                                   with web resources.\n",
      "web-trawler (0.2.0)                              - Trawl web pages for files\n",
      "                                                   to download\n",
      "Hurricane-web (0.1a1)                            - a simple web framework\n",
      "                                                   based on Tornado.\n",
      "sidefx-web (0.6.0)                               - Simple tool for using the\n",
      "                                                   SideFX Web API\n",
      "pyqmix-web (2019.1)                              - Remote-control interface\n",
      "                                                   and web-app for pyqmix.\n",
      "inhouse-web (0.0.4)                              - Web based time recording\n",
      "                                                   and management application\n",
      "rtsf-web (1.2.3)                                 - only for web ui test, base\n",
      "                                                   on rtsf\n",
      "web-poet (0.0.1)                                 - Scrapinghub's Page Object\n",
      "                                                   pattern for web scraping\n",
      "whirlwind-web (0.9.0)                            - Wrapper around the tornado\n",
      "                                                   web server library\n",
      "faker-web (0.3.1)                                - Web-related Provider for\n",
      "                                                   the Faker Python package.\n",
      "web-pdb (1.5.3)                                  - Web interface for Python's\n",
      "                                                   built-in PDB debugger\n",
      "duo-web (1.3.0)                                  - Duo Web SDK for two-factor\n",
      "                                                   authentication\n",
      "trips-web (1.0.11)                               - Command-line interface for\n",
      "                                                   the TRIPS web parser\n",
      "web-mother (0.2.7)                               - All like resource manage\n",
      "                                                   business can from web-\n",
      "                                                   mother. Web-mother include\n",
      "                                                   member manage, organization\n",
      "                                                   manage, and catalog manage.\n",
      "                                                   Especially web-mother\n",
      "                                                   support authorization\n",
      "                                                   management.\n",
      "click-web (0.7.1)                                - Serve click scripts over\n",
      "                                                   the web with minimal\n",
      "                                                   effort.\n",
      "toga-web (0.0.0)                                 - A common backend for the\n",
      "                                                   Toga widget toolkit on web\n",
      "                                                   platforms.\n",
      "web-downloader (0.0.8)                           - A Python package using\n",
      "                                                   Selenium to download web\n",
      "                                                   content\n",
      "web-office (1.0.0)                               - View office documents in\n",
      "                                                   browser using web services.\n",
      "ws-web-aiohttp (0.1b19)                          - web server for web-sheets\n",
      "                                                   project\n",
      "typhoon-web (1.0.2)                              - A wrapper around the\n",
      "                                                   Tornado web framework that\n",
      "                                                   supports logs with traceId.\n",
      "statick-web (0.0.2)                              - Statick analysis plugins\n",
      "                                                   for Web (css, html, js)\n",
      "                                                   files.\n",
      "opensubmit-web (0.7.17)                          - A web application for\n",
      "                                                   managing student assignment\n",
      "                                                   solutions in a university\n",
      "                                                   environment.\n",
      "openerp-web-calendar (7.0.406)                   - Web Calendar\n",
      "openerp-web-shortcuts (7.0.406)                  - Web Shortcuts\n",
      "openerp-web-gantt (7.0.406)                      - Web Gantt\n",
      "dsmc-web (0.0.1)                                 - [Dont Steal My Code :\n",
      "                                                   Console & web code\n",
      "                                                   encrypter & decrypter]\n",
      "tiny-web (0.0.4)                                 - WSGI-compatible framework\n",
      "                                                   to learn how to create tiny\n",
      "                                                   web applications\n",
      "fooster-web (0.3rc9)                             - a small, process-pooled web\n",
      "                                                   server utilizing the built-\n",
      "                                                   in Python socketserver\n",
      "evasion-web (1.1.1)                              - Pylons based web\n",
      "                                                   application framework on\n",
      "                                                   which the director admin is\n",
      "                                                   based.\n",
      "web-walker (3.1.5)                               - your can crawl web pages\n",
      "                                                   with litte settings. based\n",
      "                                                   on scrapy.\n",
      "OpenFisca-Web-API (8.2.0)                        - Web API for OpenFisca\n",
      "pg-chameleon-web (0.1.dev0)                      - Web interface for\n",
      "                                                   pg_chameleon\n",
      "jupyter-web-report (0.1.3)                       - jupyter web report\n",
      "bayrell-runtime-web (0.0.1)                      - Bayrell Runtime Web\n",
      "Web-Scraping-Utility (1.0.0)                     - Web Scraping Utility\n",
      "openerp-web-diagram (7.0.406)                    - OpenERP Web Diagram\n",
      "openerp-web-api (7.0.406)                        - OpenERP Web API\n",
      "django-web-app (0.0.8)                           - a django web app\n",
      "emf-web-crawler (0.1.1)                          - Basic web crawler\n",
      "web-terminal (0.2.1)                             - Web_Terminal is a server\n",
      "                                                   that gives an easy web-\n",
      "                                                   based interface to a\n",
      "                                                   terminal window, with\n",
      "                                                   plenty of nice features\n",
      "django-web-utils (0.4.3)                         - Django helpers for working\n",
      "                                                   with the web.\n",
      "web-rich-object (0.3.1)                          - Web rich object handler\n",
      "amis-web-requester (0.4)                         - A web requester utility\n",
      "                                                   package\n",
      "extensiveautomation-plugin-web (1.0.1)           - WEB plugin for\n",
      "                                                   extensiveautomation server\n",
      "eilat-web-browser (1.5.5)                        - QtWebKit based web browser\n",
      "joox-web-crawler (0.0.9)                         - a simple joox web crawler\n",
      "web-framework (100.99.99)                        - A package for analysing\n",
      "                                                   download counts on random\n",
      "                                                   packages, please remove if\n",
      "                                                   you've mistakenly installed\n",
      "                                                   this package: web-framework\n",
      "web-lib (100.99.99)                              - A package for analysing\n",
      "                                                   download counts on random\n",
      "                                                   packages, please remove if\n",
      "                                                   you've mistakenly installed\n",
      "                                                   this package: web-lib\n",
      "web-cli (100.99.99)                              - A package for analysing\n",
      "                                                   download counts on random\n",
      "                                                   packages, please remove if\n",
      "                                                   you've mistakenly installed\n",
      "                                                   this package: web-cli\n",
      "zusha-web-app (0.0.1)                            - Web server for Zusha mobile\n",
      "                                                   app.\n",
      "mongo-mail-web (0.1.1)                           - Web UI for Mongo Mail\n",
      "                                                   Server\n",
      "django-passaporte-web (1.2.8)                    - Django client app for\n",
      "                                                   Passaporte Web.\n",
      "trytond-web-user (5.6.0)                         - Tryton module to manage Web\n",
      "                                                   users\n",
      "web-payments-paypal (1.0.2)                      - Paypal plugin for web-\n",
      "                                                   payments-connector\n",
      "web-payments-paydirekt (1.0.2)                   - Paydirekt plugin for web-\n",
      "                                                   payments-connector\n",
      "python-passaporte-web (0.2.4)                    - Python client app for\n",
      "                                                   Passaporte Web.\n",
      "django-web-exceptions (0.1.4)                    - Throwing web exceptions\n",
      "                                                   like in AioHTTP\n",
      "web-payments-connector (3.0.1)                   - Universal payment handling\n",
      "                                                   for Web Frameworks\n",
      "odoo12-addon-web-refresher (12.0.1.0.0.99.dev3)  - Web Refresher\n",
      "odoo8-addon-web-shortcuts (8.0.1.0.0.99.dev24)   - Web Shortcuts\n",
      "odoo10-addon-web-openeducat (10.0.3.0.0)         - Web OpenEduCat\n",
      "odoo11-addon-web-refresher (11.0.1.0.0.99.dev6)  - Web Refresher\n",
      "web-searcher-cli (0.1.1)                         - consosle web search from\n",
      "                                                   google or yandex\n",
      "fish-bundles-web (0.1.8)                         - fish-bundles-web is the\n",
      "                                                   website for fish-bundles\n"
     ]
    }
   ],
   "source": [
    "!pip search web"
   ]
  },
  {
   "cell_type": "code",
   "execution_count": 12,
   "metadata": {},
   "outputs": [
    {
     "name": "stdout",
     "output_type": "stream",
     "text": [
      "Collecting package metadata (current_repodata.json): / ^C\n",
      "\\ "
     ]
    }
   ],
   "source": [
    "!conda install numpy"
   ]
  },
  {
   "cell_type": "code",
   "execution_count": null,
   "metadata": {},
   "outputs": [],
   "source": []
  }
 ],
 "metadata": {
  "kernelspec": {
   "display_name": "Python 3",
   "language": "python",
   "name": "python3"
  },
  "language_info": {
   "codemirror_mode": {
    "name": "ipython",
    "version": 3
   },
   "file_extension": ".py",
   "mimetype": "text/x-python",
   "name": "python",
   "nbconvert_exporter": "python",
   "pygments_lexer": "ipython3",
   "version": "3.7.4"
  }
 },
 "nbformat": 4,
 "nbformat_minor": 2
}
